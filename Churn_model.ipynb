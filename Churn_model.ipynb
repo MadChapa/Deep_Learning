{
  "nbformat": 4,
  "nbformat_minor": 0,
  "metadata": {
    "colab": {
      "provenance": [],
      "collapsed_sections": [],
      "mount_file_id": "1ALIFtj3FOr0ltqE7bRlMIma1PBY5BYiF",
      "authorship_tag": "ABX9TyNHhB+BgNMvSOBpKEyamgb9",
      "include_colab_link": true
    },
    "kernelspec": {
      "name": "python3",
      "display_name": "Python 3"
    },
    "language_info": {
      "name": "python"
    }
  },
  "cells": [
    {
      "cell_type": "markdown",
      "metadata": {
        "id": "view-in-github",
        "colab_type": "text"
      },
      "source": [
        "<a href=\"https://colab.research.google.com/github/MadChapa/Deep_Learning/blob/main/Churn_model.ipynb\" target=\"_parent\"><img src=\"https://colab.research.google.com/assets/colab-badge.svg\" alt=\"Open In Colab\"/></a>"
      ]
    },
    {
      "cell_type": "code",
      "execution_count": null,
      "metadata": {
        "id": "hMQpkNnaBP98"
      },
      "outputs": [],
      "source": [
        "# Artificial Neural Network\n",
        "\n",
        "\n",
        "# Part 1 - Data Preprocessing\n",
        "\n",
        "# Importing the libraries\n",
        "import numpy as np\n",
        "import matplotlib.pyplot as plt\n",
        "import pandas as pd"
      ]
    },
    {
      "cell_type": "code",
      "source": [
        "# Importing the dataset\n",
        "dataset = pd.read_csv('/content/drive/MyDrive/Colab Notebooks/Deep Learning/Churn_Modelling.csv')\n",
        "dataset.head()\n",
        "X = dataset.iloc[:, 3:13]\n",
        "print(X)\n",
        "y = dataset.iloc[:, 13]\n",
        "print(y)\n"
      ],
      "metadata": {
        "colab": {
          "base_uri": "https://localhost:8080/"
        },
        "id": "09zjAarbD6x5",
        "outputId": "eeb287b3-7744-46dd-c8ad-74dbe929d8b6"
      },
      "execution_count": null,
      "outputs": [
        {
          "output_type": "stream",
          "name": "stdout",
          "text": [
            "      CreditScore Geography  Gender  Age  Tenure    Balance  NumOfProducts  \\\n",
            "0             619    France  Female   42       2       0.00              1   \n",
            "1             608     Spain  Female   41       1   83807.86              1   \n",
            "2             502    France  Female   42       8  159660.80              3   \n",
            "3             699    France  Female   39       1       0.00              2   \n",
            "4             850     Spain  Female   43       2  125510.82              1   \n",
            "...           ...       ...     ...  ...     ...        ...            ...   \n",
            "9995          771    France    Male   39       5       0.00              2   \n",
            "9996          516    France    Male   35      10   57369.61              1   \n",
            "9997          709    France  Female   36       7       0.00              1   \n",
            "9998          772   Germany    Male   42       3   75075.31              2   \n",
            "9999          792    France  Female   28       4  130142.79              1   \n",
            "\n",
            "      HasCrCard  IsActiveMember  EstimatedSalary  \n",
            "0             1               1        101348.88  \n",
            "1             0               1        112542.58  \n",
            "2             1               0        113931.57  \n",
            "3             0               0         93826.63  \n",
            "4             1               1         79084.10  \n",
            "...         ...             ...              ...  \n",
            "9995          1               0         96270.64  \n",
            "9996          1               1        101699.77  \n",
            "9997          0               1         42085.58  \n",
            "9998          1               0         92888.52  \n",
            "9999          1               0         38190.78  \n",
            "\n",
            "[10000 rows x 10 columns]\n",
            "0       1\n",
            "1       0\n",
            "2       1\n",
            "3       0\n",
            "4       0\n",
            "       ..\n",
            "9995    0\n",
            "9996    0\n",
            "9997    1\n",
            "9998    1\n",
            "9999    0\n",
            "Name: Exited, Length: 10000, dtype: int64\n"
          ]
        }
      ]
    },
    {
      "cell_type": "code",
      "source": [
        "#Create dummy variables\n",
        "geography=pd.get_dummies(X[\"Geography\"],drop_first=True)\n",
        "print(geography)\n",
        "\n",
        "gender=pd.get_dummies(X['Gender'],drop_first=True)\n",
        "print(gender)"
      ],
      "metadata": {
        "colab": {
          "base_uri": "https://localhost:8080/"
        },
        "id": "XKH4F5_RD8N9",
        "outputId": "76160326-424b-4ce7-a086-57613da300ca"
      },
      "execution_count": null,
      "outputs": [
        {
          "output_type": "stream",
          "name": "stdout",
          "text": [
            "      Germany  Spain\n",
            "0           0      0\n",
            "1           0      1\n",
            "2           0      0\n",
            "3           0      0\n",
            "4           0      1\n",
            "...       ...    ...\n",
            "9995        0      0\n",
            "9996        0      0\n",
            "9997        0      0\n",
            "9998        1      0\n",
            "9999        0      0\n",
            "\n",
            "[10000 rows x 2 columns]\n",
            "      Male\n",
            "0        0\n",
            "1        0\n",
            "2        0\n",
            "3        0\n",
            "4        0\n",
            "...    ...\n",
            "9995     1\n",
            "9996     1\n",
            "9997     0\n",
            "9998     1\n",
            "9999     0\n",
            "\n",
            "[10000 rows x 1 columns]\n"
          ]
        }
      ]
    },
    {
      "cell_type": "code",
      "source": [
        "\n",
        "## Concatenate the Data Frames\n",
        "\n",
        "X=pd.concat([X,geography,gender],axis=1)\n"
      ],
      "metadata": {
        "id": "kMDotrxHPiXF"
      },
      "execution_count": null,
      "outputs": []
    },
    {
      "cell_type": "code",
      "source": [
        "## Drop Unnecessary columns\n",
        "X=X.drop(['Geography','Gender'],axis=1)"
      ],
      "metadata": {
        "id": "MPDLCqzIP5QB"
      },
      "execution_count": null,
      "outputs": []
    },
    {
      "cell_type": "code",
      "source": [
        "# Splitting the dataset into the Training set and Test set\n",
        "from sklearn.model_selection import train_test_split\n",
        "X_train, X_test, y_train, y_test = train_test_split(X, y, test_size = 0.2, random_state = 0)\n",
        "X_train"
      ],
      "metadata": {
        "colab": {
          "base_uri": "https://localhost:8080/",
          "height": 424
        },
        "id": "RvPGGISdP7Ux",
        "outputId": "06cd6d1f-9679-48b9-9ad6-e73bdb287816"
      },
      "execution_count": null,
      "outputs": [
        {
          "output_type": "execute_result",
          "data": {
            "text/plain": [
              "      CreditScore  Age  Tenure    Balance  NumOfProducts  HasCrCard  \\\n",
              "7389          667   34       5       0.00              2          1   \n",
              "9275          427   42       1   75681.52              1          1   \n",
              "2995          535   29       2  112367.34              1          1   \n",
              "5316          654   40       5  105683.63              1          1   \n",
              "356           850   57       8  126776.30              2          1   \n",
              "...           ...  ...     ...        ...            ...        ...   \n",
              "9225          594   32       4  120074.97              2          1   \n",
              "4859          794   22       4  114440.24              1          1   \n",
              "3264          738   35       5  161274.05              2          1   \n",
              "9845          590   38       9       0.00              2          1   \n",
              "2732          623   48       1  108076.33              1          1   \n",
              "\n",
              "      IsActiveMember  EstimatedSalary  Germany  Spain  Male  \n",
              "7389               0        163830.64        0      1     0  \n",
              "9275               1         57098.00        1      0     1  \n",
              "2995               0        185630.76        0      0     0  \n",
              "5316               0        173617.09        0      1     1  \n",
              "356                1        132298.49        0      1     0  \n",
              "...              ...              ...      ...    ...   ...  \n",
              "9225               1        162961.79        1      0     0  \n",
              "4859               1        107753.07        0      1     0  \n",
              "3264               0        181429.87        0      0     1  \n",
              "9845               1        148750.16        0      1     0  \n",
              "2732               0        118855.26        1      0     0  \n",
              "\n",
              "[8000 rows x 11 columns]"
            ],
            "text/html": [
              "\n",
              "  <div id=\"df-d8968655-4674-4371-bc67-8cd6b6487423\">\n",
              "    <div class=\"colab-df-container\">\n",
              "      <div>\n",
              "<style scoped>\n",
              "    .dataframe tbody tr th:only-of-type {\n",
              "        vertical-align: middle;\n",
              "    }\n",
              "\n",
              "    .dataframe tbody tr th {\n",
              "        vertical-align: top;\n",
              "    }\n",
              "\n",
              "    .dataframe thead th {\n",
              "        text-align: right;\n",
              "    }\n",
              "</style>\n",
              "<table border=\"1\" class=\"dataframe\">\n",
              "  <thead>\n",
              "    <tr style=\"text-align: right;\">\n",
              "      <th></th>\n",
              "      <th>CreditScore</th>\n",
              "      <th>Age</th>\n",
              "      <th>Tenure</th>\n",
              "      <th>Balance</th>\n",
              "      <th>NumOfProducts</th>\n",
              "      <th>HasCrCard</th>\n",
              "      <th>IsActiveMember</th>\n",
              "      <th>EstimatedSalary</th>\n",
              "      <th>Germany</th>\n",
              "      <th>Spain</th>\n",
              "      <th>Male</th>\n",
              "    </tr>\n",
              "  </thead>\n",
              "  <tbody>\n",
              "    <tr>\n",
              "      <th>7389</th>\n",
              "      <td>667</td>\n",
              "      <td>34</td>\n",
              "      <td>5</td>\n",
              "      <td>0.00</td>\n",
              "      <td>2</td>\n",
              "      <td>1</td>\n",
              "      <td>0</td>\n",
              "      <td>163830.64</td>\n",
              "      <td>0</td>\n",
              "      <td>1</td>\n",
              "      <td>0</td>\n",
              "    </tr>\n",
              "    <tr>\n",
              "      <th>9275</th>\n",
              "      <td>427</td>\n",
              "      <td>42</td>\n",
              "      <td>1</td>\n",
              "      <td>75681.52</td>\n",
              "      <td>1</td>\n",
              "      <td>1</td>\n",
              "      <td>1</td>\n",
              "      <td>57098.00</td>\n",
              "      <td>1</td>\n",
              "      <td>0</td>\n",
              "      <td>1</td>\n",
              "    </tr>\n",
              "    <tr>\n",
              "      <th>2995</th>\n",
              "      <td>535</td>\n",
              "      <td>29</td>\n",
              "      <td>2</td>\n",
              "      <td>112367.34</td>\n",
              "      <td>1</td>\n",
              "      <td>1</td>\n",
              "      <td>0</td>\n",
              "      <td>185630.76</td>\n",
              "      <td>0</td>\n",
              "      <td>0</td>\n",
              "      <td>0</td>\n",
              "    </tr>\n",
              "    <tr>\n",
              "      <th>5316</th>\n",
              "      <td>654</td>\n",
              "      <td>40</td>\n",
              "      <td>5</td>\n",
              "      <td>105683.63</td>\n",
              "      <td>1</td>\n",
              "      <td>1</td>\n",
              "      <td>0</td>\n",
              "      <td>173617.09</td>\n",
              "      <td>0</td>\n",
              "      <td>1</td>\n",
              "      <td>1</td>\n",
              "    </tr>\n",
              "    <tr>\n",
              "      <th>356</th>\n",
              "      <td>850</td>\n",
              "      <td>57</td>\n",
              "      <td>8</td>\n",
              "      <td>126776.30</td>\n",
              "      <td>2</td>\n",
              "      <td>1</td>\n",
              "      <td>1</td>\n",
              "      <td>132298.49</td>\n",
              "      <td>0</td>\n",
              "      <td>1</td>\n",
              "      <td>0</td>\n",
              "    </tr>\n",
              "    <tr>\n",
              "      <th>...</th>\n",
              "      <td>...</td>\n",
              "      <td>...</td>\n",
              "      <td>...</td>\n",
              "      <td>...</td>\n",
              "      <td>...</td>\n",
              "      <td>...</td>\n",
              "      <td>...</td>\n",
              "      <td>...</td>\n",
              "      <td>...</td>\n",
              "      <td>...</td>\n",
              "      <td>...</td>\n",
              "    </tr>\n",
              "    <tr>\n",
              "      <th>9225</th>\n",
              "      <td>594</td>\n",
              "      <td>32</td>\n",
              "      <td>4</td>\n",
              "      <td>120074.97</td>\n",
              "      <td>2</td>\n",
              "      <td>1</td>\n",
              "      <td>1</td>\n",
              "      <td>162961.79</td>\n",
              "      <td>1</td>\n",
              "      <td>0</td>\n",
              "      <td>0</td>\n",
              "    </tr>\n",
              "    <tr>\n",
              "      <th>4859</th>\n",
              "      <td>794</td>\n",
              "      <td>22</td>\n",
              "      <td>4</td>\n",
              "      <td>114440.24</td>\n",
              "      <td>1</td>\n",
              "      <td>1</td>\n",
              "      <td>1</td>\n",
              "      <td>107753.07</td>\n",
              "      <td>0</td>\n",
              "      <td>1</td>\n",
              "      <td>0</td>\n",
              "    </tr>\n",
              "    <tr>\n",
              "      <th>3264</th>\n",
              "      <td>738</td>\n",
              "      <td>35</td>\n",
              "      <td>5</td>\n",
              "      <td>161274.05</td>\n",
              "      <td>2</td>\n",
              "      <td>1</td>\n",
              "      <td>0</td>\n",
              "      <td>181429.87</td>\n",
              "      <td>0</td>\n",
              "      <td>0</td>\n",
              "      <td>1</td>\n",
              "    </tr>\n",
              "    <tr>\n",
              "      <th>9845</th>\n",
              "      <td>590</td>\n",
              "      <td>38</td>\n",
              "      <td>9</td>\n",
              "      <td>0.00</td>\n",
              "      <td>2</td>\n",
              "      <td>1</td>\n",
              "      <td>1</td>\n",
              "      <td>148750.16</td>\n",
              "      <td>0</td>\n",
              "      <td>1</td>\n",
              "      <td>0</td>\n",
              "    </tr>\n",
              "    <tr>\n",
              "      <th>2732</th>\n",
              "      <td>623</td>\n",
              "      <td>48</td>\n",
              "      <td>1</td>\n",
              "      <td>108076.33</td>\n",
              "      <td>1</td>\n",
              "      <td>1</td>\n",
              "      <td>0</td>\n",
              "      <td>118855.26</td>\n",
              "      <td>1</td>\n",
              "      <td>0</td>\n",
              "      <td>0</td>\n",
              "    </tr>\n",
              "  </tbody>\n",
              "</table>\n",
              "<p>8000 rows × 11 columns</p>\n",
              "</div>\n",
              "      <button class=\"colab-df-convert\" onclick=\"convertToInteractive('df-d8968655-4674-4371-bc67-8cd6b6487423')\"\n",
              "              title=\"Convert this dataframe to an interactive table.\"\n",
              "              style=\"display:none;\">\n",
              "        \n",
              "  <svg xmlns=\"http://www.w3.org/2000/svg\" height=\"24px\"viewBox=\"0 0 24 24\"\n",
              "       width=\"24px\">\n",
              "    <path d=\"M0 0h24v24H0V0z\" fill=\"none\"/>\n",
              "    <path d=\"M18.56 5.44l.94 2.06.94-2.06 2.06-.94-2.06-.94-.94-2.06-.94 2.06-2.06.94zm-11 1L8.5 8.5l.94-2.06 2.06-.94-2.06-.94L8.5 2.5l-.94 2.06-2.06.94zm10 10l.94 2.06.94-2.06 2.06-.94-2.06-.94-.94-2.06-.94 2.06-2.06.94z\"/><path d=\"M17.41 7.96l-1.37-1.37c-.4-.4-.92-.59-1.43-.59-.52 0-1.04.2-1.43.59L10.3 9.45l-7.72 7.72c-.78.78-.78 2.05 0 2.83L4 21.41c.39.39.9.59 1.41.59.51 0 1.02-.2 1.41-.59l7.78-7.78 2.81-2.81c.8-.78.8-2.07 0-2.86zM5.41 20L4 18.59l7.72-7.72 1.47 1.35L5.41 20z\"/>\n",
              "  </svg>\n",
              "      </button>\n",
              "      \n",
              "  <style>\n",
              "    .colab-df-container {\n",
              "      display:flex;\n",
              "      flex-wrap:wrap;\n",
              "      gap: 12px;\n",
              "    }\n",
              "\n",
              "    .colab-df-convert {\n",
              "      background-color: #E8F0FE;\n",
              "      border: none;\n",
              "      border-radius: 50%;\n",
              "      cursor: pointer;\n",
              "      display: none;\n",
              "      fill: #1967D2;\n",
              "      height: 32px;\n",
              "      padding: 0 0 0 0;\n",
              "      width: 32px;\n",
              "    }\n",
              "\n",
              "    .colab-df-convert:hover {\n",
              "      background-color: #E2EBFA;\n",
              "      box-shadow: 0px 1px 2px rgba(60, 64, 67, 0.3), 0px 1px 3px 1px rgba(60, 64, 67, 0.15);\n",
              "      fill: #174EA6;\n",
              "    }\n",
              "\n",
              "    [theme=dark] .colab-df-convert {\n",
              "      background-color: #3B4455;\n",
              "      fill: #D2E3FC;\n",
              "    }\n",
              "\n",
              "    [theme=dark] .colab-df-convert:hover {\n",
              "      background-color: #434B5C;\n",
              "      box-shadow: 0px 1px 3px 1px rgba(0, 0, 0, 0.15);\n",
              "      filter: drop-shadow(0px 1px 2px rgba(0, 0, 0, 0.3));\n",
              "      fill: #FFFFFF;\n",
              "    }\n",
              "  </style>\n",
              "\n",
              "      <script>\n",
              "        const buttonEl =\n",
              "          document.querySelector('#df-d8968655-4674-4371-bc67-8cd6b6487423 button.colab-df-convert');\n",
              "        buttonEl.style.display =\n",
              "          google.colab.kernel.accessAllowed ? 'block' : 'none';\n",
              "\n",
              "        async function convertToInteractive(key) {\n",
              "          const element = document.querySelector('#df-d8968655-4674-4371-bc67-8cd6b6487423');\n",
              "          const dataTable =\n",
              "            await google.colab.kernel.invokeFunction('convertToInteractive',\n",
              "                                                     [key], {});\n",
              "          if (!dataTable) return;\n",
              "\n",
              "          const docLinkHtml = 'Like what you see? Visit the ' +\n",
              "            '<a target=\"_blank\" href=https://colab.research.google.com/notebooks/data_table.ipynb>data table notebook</a>'\n",
              "            + ' to learn more about interactive tables.';\n",
              "          element.innerHTML = '';\n",
              "          dataTable['output_type'] = 'display_data';\n",
              "          await google.colab.output.renderOutput(dataTable, element);\n",
              "          const docLink = document.createElement('div');\n",
              "          docLink.innerHTML = docLinkHtml;\n",
              "          element.appendChild(docLink);\n",
              "        }\n",
              "      </script>\n",
              "    </div>\n",
              "  </div>\n",
              "  "
            ]
          },
          "metadata": {},
          "execution_count": 6
        }
      ]
    },
    {
      "cell_type": "code",
      "source": [
        "# Feature Scaling\n",
        "from sklearn.preprocessing import StandardScaler\n",
        "sc = StandardScaler()\n",
        "X_train = sc.fit_transform(X_train)\n",
        "X_train\n",
        "\n",
        "X_test = sc.transform(X_test)\n",
        "X_test"
      ],
      "metadata": {
        "colab": {
          "base_uri": "https://localhost:8080/"
        },
        "id": "HGqjVSF-O7nC",
        "outputId": "2cafa3ae-ad26-4a69-baf8-28ec5964af98"
      },
      "execution_count": null,
      "outputs": [
        {
          "output_type": "execute_result",
          "data": {
            "text/plain": [
              "array([[-0.55204276, -0.36890377,  1.04473698, ...,  1.75486502,\n",
              "        -0.57369368, -1.09168714],\n",
              "       [-1.31490297,  0.10961719, -1.031415  , ..., -0.5698444 ,\n",
              "        -0.57369368, -1.09168714],\n",
              "       [ 0.57162971,  0.30102557,  1.04473698, ..., -0.5698444 ,\n",
              "         1.74309049, -1.09168714],\n",
              "       ...,\n",
              "       [-0.74791227, -0.27319958, -1.37744033, ..., -0.5698444 ,\n",
              "         1.74309049,  0.91601335],\n",
              "       [-0.00566991, -0.46460796, -0.33936434, ...,  1.75486502,\n",
              "        -0.57369368,  0.91601335],\n",
              "       [-0.79945688, -0.84742473,  1.04473698, ...,  1.75486502,\n",
              "        -0.57369368,  0.91601335]])"
            ]
          },
          "metadata": {},
          "execution_count": 7
        }
      ]
    },
    {
      "cell_type": "code",
      "source": [
        "# Part 2 - Now let's make the ANN!\n",
        "\n",
        "# Importing the Keras libraries and packages\n",
        "import keras\n",
        "from keras.models import Sequential\n",
        "from keras.layers import Dense\n",
        "from keras.layers import LeakyReLU,PReLU,ELU\n",
        "from keras.layers import Dropout\n"
      ],
      "metadata": {
        "id": "cGButN7sSFyW"
      },
      "execution_count": null,
      "outputs": []
    },
    {
      "cell_type": "code",
      "source": [
        "# Initialising the ANN\n",
        "classifier = Sequential()\n",
        "\n",
        "# Adding the input layer and the first hidden layer\n",
        "classifier.add(Dense(units = 10, kernel_initializer= 'he_normal',activation='relu',input_dim = 11))\n",
        "classifier.add(Dropout(0.3))\n",
        "\n",
        "# Adding the second hidden layer\n",
        "classifier.add(Dense(units = 20, kernel_initializer= 'he_normal',activation='relu'))\n",
        "classifier.add(Dropout(0.4))\n",
        "\n",
        "\n",
        "#Adding the third hidden layer\n",
        "classifier.add(Dense(units = 15, kernel_initializer= 'he_normal',activation='relu'))\n",
        "classifier.add(Dropout(0.2))\n",
        "\n",
        "# Adding the output layer\n",
        "classifier.add(Dense(units = 1, kernel_initializer= 'glorot_uniform', activation = 'sigmoid'))\n",
        "\n",
        "classifier.summary()"
      ],
      "metadata": {
        "colab": {
          "base_uri": "https://localhost:8080/"
        },
        "id": "-UTxdU0oWgPi",
        "outputId": "7a7f3924-bd4a-4bd4-a882-8e91744cf93e"
      },
      "execution_count": null,
      "outputs": [
        {
          "output_type": "stream",
          "name": "stdout",
          "text": [
            "Model: \"sequential\"\n",
            "_________________________________________________________________\n",
            " Layer (type)                Output Shape              Param #   \n",
            "=================================================================\n",
            " dense (Dense)               (None, 10)                120       \n",
            "                                                                 \n",
            " dropout (Dropout)           (None, 10)                0         \n",
            "                                                                 \n",
            " dense_1 (Dense)             (None, 20)                220       \n",
            "                                                                 \n",
            " dropout_1 (Dropout)         (None, 20)                0         \n",
            "                                                                 \n",
            " dense_2 (Dense)             (None, 15)                315       \n",
            "                                                                 \n",
            " dropout_2 (Dropout)         (None, 15)                0         \n",
            "                                                                 \n",
            " dense_3 (Dense)             (None, 1)                 16        \n",
            "                                                                 \n",
            "=================================================================\n",
            "Total params: 671\n",
            "Trainable params: 671\n",
            "Non-trainable params: 0\n",
            "_________________________________________________________________\n"
          ]
        }
      ]
    },
    {
      "cell_type": "code",
      "source": [
        "# Compiling the ANN\n",
        "classifier.compile(optimizer = 'adam', loss = 'binary_crossentropy', metrics = ['accuracy'])\n",
        "\n"
      ],
      "metadata": {
        "id": "jJODy13dWrGj"
      },
      "execution_count": null,
      "outputs": []
    },
    {
      "cell_type": "code",
      "source": [
        "\n",
        "\n",
        "# Fitting the ANN to the Training set\n",
        "model_history=classifier.fit(X_train, y_train,validation_split=0.33, batch_size = 10, epochs= 100)\n"
      ],
      "metadata": {
        "colab": {
          "base_uri": "https://localhost:8080/"
        },
        "id": "92BkR4KYW1iw",
        "outputId": "0aed2267-f294-42d7-af50-6ca999fbd91a"
      },
      "execution_count": null,
      "outputs": [
        {
          "output_type": "stream",
          "name": "stdout",
          "text": [
            "Epoch 1/100\n",
            "536/536 [==============================] - 3s 3ms/step - loss: 0.5811 - accuracy: 0.7727 - val_loss: 0.5090 - val_accuracy: 0.7955\n",
            "Epoch 2/100\n",
            "536/536 [==============================] - 2s 3ms/step - loss: 0.5156 - accuracy: 0.7947 - val_loss: 0.4954 - val_accuracy: 0.7955\n",
            "Epoch 3/100\n",
            "536/536 [==============================] - 2s 3ms/step - loss: 0.5034 - accuracy: 0.7957 - val_loss: 0.4835 - val_accuracy: 0.7955\n",
            "Epoch 4/100\n",
            "536/536 [==============================] - 2s 3ms/step - loss: 0.4875 - accuracy: 0.7962 - val_loss: 0.4667 - val_accuracy: 0.7955\n",
            "Epoch 5/100\n",
            "536/536 [==============================] - 2s 3ms/step - loss: 0.4749 - accuracy: 0.7962 - val_loss: 0.4639 - val_accuracy: 0.7955\n",
            "Epoch 6/100\n",
            "536/536 [==============================] - 2s 3ms/step - loss: 0.4715 - accuracy: 0.7962 - val_loss: 0.4590 - val_accuracy: 0.7955\n",
            "Epoch 7/100\n",
            "536/536 [==============================] - 2s 3ms/step - loss: 0.4584 - accuracy: 0.7962 - val_loss: 0.4512 - val_accuracy: 0.7955\n",
            "Epoch 8/100\n",
            "536/536 [==============================] - 2s 3ms/step - loss: 0.4615 - accuracy: 0.7962 - val_loss: 0.4561 - val_accuracy: 0.7955\n",
            "Epoch 9/100\n",
            "536/536 [==============================] - 2s 3ms/step - loss: 0.4599 - accuracy: 0.7962 - val_loss: 0.4490 - val_accuracy: 0.7955\n",
            "Epoch 10/100\n",
            "536/536 [==============================] - 2s 3ms/step - loss: 0.4515 - accuracy: 0.7962 - val_loss: 0.4474 - val_accuracy: 0.7955\n",
            "Epoch 11/100\n",
            "536/536 [==============================] - 1s 3ms/step - loss: 0.4527 - accuracy: 0.7962 - val_loss: 0.4540 - val_accuracy: 0.7955\n",
            "Epoch 12/100\n",
            "536/536 [==============================] - 2s 3ms/step - loss: 0.4454 - accuracy: 0.7962 - val_loss: 0.4416 - val_accuracy: 0.7955\n",
            "Epoch 13/100\n",
            "536/536 [==============================] - 2s 3ms/step - loss: 0.4502 - accuracy: 0.7955 - val_loss: 0.4471 - val_accuracy: 0.7955\n",
            "Epoch 14/100\n",
            "536/536 [==============================] - 2s 3ms/step - loss: 0.4460 - accuracy: 0.7979 - val_loss: 0.4420 - val_accuracy: 0.7955\n",
            "Epoch 15/100\n",
            "536/536 [==============================] - 2s 3ms/step - loss: 0.4401 - accuracy: 0.7972 - val_loss: 0.4385 - val_accuracy: 0.7955\n",
            "Epoch 16/100\n",
            "536/536 [==============================] - 3s 5ms/step - loss: 0.4369 - accuracy: 0.8046 - val_loss: 0.4343 - val_accuracy: 0.7955\n",
            "Epoch 17/100\n",
            "536/536 [==============================] - 4s 7ms/step - loss: 0.4385 - accuracy: 0.8029 - val_loss: 0.4528 - val_accuracy: 0.7963\n",
            "Epoch 18/100\n",
            "536/536 [==============================] - 2s 3ms/step - loss: 0.4345 - accuracy: 0.8080 - val_loss: 0.4591 - val_accuracy: 0.8133\n",
            "Epoch 19/100\n",
            "536/536 [==============================] - 1s 3ms/step - loss: 0.4330 - accuracy: 0.8054 - val_loss: 0.4378 - val_accuracy: 0.8137\n",
            "Epoch 20/100\n",
            "536/536 [==============================] - 1s 3ms/step - loss: 0.4358 - accuracy: 0.8099 - val_loss: 0.4463 - val_accuracy: 0.8114\n",
            "Epoch 21/100\n",
            "536/536 [==============================] - 1s 3ms/step - loss: 0.4278 - accuracy: 0.8115 - val_loss: 0.4356 - val_accuracy: 0.8141\n",
            "Epoch 22/100\n",
            "536/536 [==============================] - 2s 3ms/step - loss: 0.4348 - accuracy: 0.8095 - val_loss: 0.4366 - val_accuracy: 0.8145\n",
            "Epoch 23/100\n",
            "536/536 [==============================] - 2s 3ms/step - loss: 0.4287 - accuracy: 0.8173 - val_loss: 0.4424 - val_accuracy: 0.8171\n",
            "Epoch 24/100\n",
            "536/536 [==============================] - 2s 3ms/step - loss: 0.4298 - accuracy: 0.8182 - val_loss: 0.4332 - val_accuracy: 0.8152\n",
            "Epoch 25/100\n",
            "536/536 [==============================] - 2s 3ms/step - loss: 0.4245 - accuracy: 0.8233 - val_loss: 0.4289 - val_accuracy: 0.8194\n",
            "Epoch 26/100\n",
            "536/536 [==============================] - 2s 3ms/step - loss: 0.4247 - accuracy: 0.8212 - val_loss: 0.4285 - val_accuracy: 0.8167\n",
            "Epoch 27/100\n",
            "536/536 [==============================] - 1s 3ms/step - loss: 0.4214 - accuracy: 0.8209 - val_loss: 0.4290 - val_accuracy: 0.8164\n",
            "Epoch 28/100\n",
            "536/536 [==============================] - 2s 3ms/step - loss: 0.4197 - accuracy: 0.8244 - val_loss: 0.4296 - val_accuracy: 0.8194\n",
            "Epoch 29/100\n",
            "536/536 [==============================] - 1s 3ms/step - loss: 0.4196 - accuracy: 0.8225 - val_loss: 0.4355 - val_accuracy: 0.8228\n",
            "Epoch 30/100\n",
            "536/536 [==============================] - 2s 3ms/step - loss: 0.4227 - accuracy: 0.8214 - val_loss: 0.4273 - val_accuracy: 0.8220\n",
            "Epoch 31/100\n",
            "536/536 [==============================] - 2s 3ms/step - loss: 0.4157 - accuracy: 0.8253 - val_loss: 0.4246 - val_accuracy: 0.8186\n",
            "Epoch 32/100\n",
            "536/536 [==============================] - 1s 3ms/step - loss: 0.4102 - accuracy: 0.8281 - val_loss: 0.4181 - val_accuracy: 0.8307\n",
            "Epoch 33/100\n",
            "536/536 [==============================] - 2s 3ms/step - loss: 0.4090 - accuracy: 0.8319 - val_loss: 0.4120 - val_accuracy: 0.8281\n",
            "Epoch 34/100\n",
            "536/536 [==============================] - 1s 3ms/step - loss: 0.4167 - accuracy: 0.8281 - val_loss: 0.4126 - val_accuracy: 0.8360\n",
            "Epoch 35/100\n",
            "536/536 [==============================] - 1s 3ms/step - loss: 0.4078 - accuracy: 0.8313 - val_loss: 0.4026 - val_accuracy: 0.8330\n",
            "Epoch 36/100\n",
            "536/536 [==============================] - 1s 3ms/step - loss: 0.4088 - accuracy: 0.8276 - val_loss: 0.4052 - val_accuracy: 0.8307\n",
            "Epoch 37/100\n",
            "536/536 [==============================] - 1s 3ms/step - loss: 0.4024 - accuracy: 0.8306 - val_loss: 0.4048 - val_accuracy: 0.8319\n",
            "Epoch 38/100\n",
            "536/536 [==============================] - 1s 3ms/step - loss: 0.4045 - accuracy: 0.8375 - val_loss: 0.3997 - val_accuracy: 0.8334\n",
            "Epoch 39/100\n",
            "536/536 [==============================] - 1s 3ms/step - loss: 0.4007 - accuracy: 0.8343 - val_loss: 0.4037 - val_accuracy: 0.8330\n",
            "Epoch 40/100\n",
            "536/536 [==============================] - 2s 3ms/step - loss: 0.4044 - accuracy: 0.8304 - val_loss: 0.3973 - val_accuracy: 0.8402\n",
            "Epoch 41/100\n",
            "536/536 [==============================] - 1s 3ms/step - loss: 0.3946 - accuracy: 0.8371 - val_loss: 0.3947 - val_accuracy: 0.8383\n",
            "Epoch 42/100\n",
            "536/536 [==============================] - 1s 3ms/step - loss: 0.3986 - accuracy: 0.8350 - val_loss: 0.3987 - val_accuracy: 0.8342\n",
            "Epoch 43/100\n",
            "536/536 [==============================] - 2s 3ms/step - loss: 0.3917 - accuracy: 0.8390 - val_loss: 0.3984 - val_accuracy: 0.8383\n",
            "Epoch 44/100\n",
            "536/536 [==============================] - 2s 3ms/step - loss: 0.3877 - accuracy: 0.8455 - val_loss: 0.3827 - val_accuracy: 0.8429\n",
            "Epoch 45/100\n",
            "536/536 [==============================] - 2s 3ms/step - loss: 0.4027 - accuracy: 0.8391 - val_loss: 0.3994 - val_accuracy: 0.8413\n",
            "Epoch 46/100\n",
            "536/536 [==============================] - 1s 3ms/step - loss: 0.3916 - accuracy: 0.8418 - val_loss: 0.3971 - val_accuracy: 0.8448\n",
            "Epoch 47/100\n",
            "536/536 [==============================] - 1s 3ms/step - loss: 0.3963 - accuracy: 0.8403 - val_loss: 0.3979 - val_accuracy: 0.8455\n",
            "Epoch 48/100\n",
            "536/536 [==============================] - 2s 3ms/step - loss: 0.3905 - accuracy: 0.8410 - val_loss: 0.3926 - val_accuracy: 0.8429\n",
            "Epoch 49/100\n",
            "536/536 [==============================] - 2s 3ms/step - loss: 0.4011 - accuracy: 0.8304 - val_loss: 0.3917 - val_accuracy: 0.8398\n",
            "Epoch 50/100\n",
            "536/536 [==============================] - 1s 3ms/step - loss: 0.3929 - accuracy: 0.8375 - val_loss: 0.3975 - val_accuracy: 0.8417\n",
            "Epoch 51/100\n",
            "536/536 [==============================] - 2s 3ms/step - loss: 0.3971 - accuracy: 0.8380 - val_loss: 0.3904 - val_accuracy: 0.8406\n",
            "Epoch 52/100\n",
            "536/536 [==============================] - 1s 3ms/step - loss: 0.3962 - accuracy: 0.8330 - val_loss: 0.3909 - val_accuracy: 0.8398\n",
            "Epoch 53/100\n",
            "536/536 [==============================] - 2s 3ms/step - loss: 0.3925 - accuracy: 0.8391 - val_loss: 0.3944 - val_accuracy: 0.8410\n",
            "Epoch 54/100\n",
            "536/536 [==============================] - 2s 3ms/step - loss: 0.3872 - accuracy: 0.8429 - val_loss: 0.3966 - val_accuracy: 0.8436\n",
            "Epoch 55/100\n",
            "536/536 [==============================] - 1s 3ms/step - loss: 0.3962 - accuracy: 0.8364 - val_loss: 0.3995 - val_accuracy: 0.8459\n",
            "Epoch 56/100\n",
            "536/536 [==============================] - 1s 3ms/step - loss: 0.3958 - accuracy: 0.8401 - val_loss: 0.4101 - val_accuracy: 0.8432\n",
            "Epoch 57/100\n",
            "536/536 [==============================] - 1s 3ms/step - loss: 0.3927 - accuracy: 0.8393 - val_loss: 0.4063 - val_accuracy: 0.8417\n",
            "Epoch 58/100\n",
            "536/536 [==============================] - 2s 3ms/step - loss: 0.3932 - accuracy: 0.8423 - val_loss: 0.4034 - val_accuracy: 0.8444\n",
            "Epoch 59/100\n",
            "536/536 [==============================] - 1s 3ms/step - loss: 0.3914 - accuracy: 0.8434 - val_loss: 0.3931 - val_accuracy: 0.8436\n",
            "Epoch 60/100\n",
            "536/536 [==============================] - 2s 3ms/step - loss: 0.3855 - accuracy: 0.8414 - val_loss: 0.3986 - val_accuracy: 0.8436\n",
            "Epoch 61/100\n",
            "536/536 [==============================] - 2s 3ms/step - loss: 0.3960 - accuracy: 0.8365 - val_loss: 0.3901 - val_accuracy: 0.8402\n",
            "Epoch 62/100\n",
            "536/536 [==============================] - 1s 3ms/step - loss: 0.3923 - accuracy: 0.8386 - val_loss: 0.3918 - val_accuracy: 0.8421\n",
            "Epoch 63/100\n",
            "536/536 [==============================] - 1s 3ms/step - loss: 0.3937 - accuracy: 0.8393 - val_loss: 0.3933 - val_accuracy: 0.8410\n",
            "Epoch 64/100\n",
            "536/536 [==============================] - 2s 3ms/step - loss: 0.3924 - accuracy: 0.8423 - val_loss: 0.3857 - val_accuracy: 0.8398\n",
            "Epoch 65/100\n",
            "536/536 [==============================] - 1s 3ms/step - loss: 0.3952 - accuracy: 0.8406 - val_loss: 0.3934 - val_accuracy: 0.8451\n",
            "Epoch 66/100\n",
            "536/536 [==============================] - 1s 3ms/step - loss: 0.3864 - accuracy: 0.8419 - val_loss: 0.4017 - val_accuracy: 0.8463\n",
            "Epoch 67/100\n",
            "536/536 [==============================] - 2s 3ms/step - loss: 0.3949 - accuracy: 0.8391 - val_loss: 0.4034 - val_accuracy: 0.8432\n",
            "Epoch 68/100\n",
            "536/536 [==============================] - 1s 3ms/step - loss: 0.3906 - accuracy: 0.8427 - val_loss: 0.3972 - val_accuracy: 0.8455\n",
            "Epoch 69/100\n",
            "536/536 [==============================] - 1s 3ms/step - loss: 0.3891 - accuracy: 0.8419 - val_loss: 0.3936 - val_accuracy: 0.8474\n",
            "Epoch 70/100\n",
            "536/536 [==============================] - 2s 3ms/step - loss: 0.3927 - accuracy: 0.8384 - val_loss: 0.3954 - val_accuracy: 0.8459\n",
            "Epoch 71/100\n",
            "536/536 [==============================] - 2s 3ms/step - loss: 0.3827 - accuracy: 0.8421 - val_loss: 0.3865 - val_accuracy: 0.8463\n",
            "Epoch 72/100\n",
            "536/536 [==============================] - 2s 3ms/step - loss: 0.3872 - accuracy: 0.8410 - val_loss: 0.3920 - val_accuracy: 0.8459\n",
            "Epoch 73/100\n",
            "536/536 [==============================] - 2s 3ms/step - loss: 0.3859 - accuracy: 0.8410 - val_loss: 0.3948 - val_accuracy: 0.8463\n",
            "Epoch 74/100\n",
            "536/536 [==============================] - 2s 4ms/step - loss: 0.3876 - accuracy: 0.8405 - val_loss: 0.3968 - val_accuracy: 0.8463\n",
            "Epoch 75/100\n",
            "536/536 [==============================] - 3s 5ms/step - loss: 0.3917 - accuracy: 0.8390 - val_loss: 0.3894 - val_accuracy: 0.8482\n",
            "Epoch 76/100\n",
            "536/536 [==============================] - 3s 5ms/step - loss: 0.3944 - accuracy: 0.8423 - val_loss: 0.3962 - val_accuracy: 0.8482\n",
            "Epoch 77/100\n",
            "536/536 [==============================] - 2s 4ms/step - loss: 0.3914 - accuracy: 0.8377 - val_loss: 0.3941 - val_accuracy: 0.8501\n",
            "Epoch 78/100\n",
            "536/536 [==============================] - 2s 3ms/step - loss: 0.3904 - accuracy: 0.8419 - val_loss: 0.3959 - val_accuracy: 0.8482\n",
            "Epoch 79/100\n",
            "536/536 [==============================] - 2s 3ms/step - loss: 0.3881 - accuracy: 0.8405 - val_loss: 0.3932 - val_accuracy: 0.8482\n",
            "Epoch 80/100\n",
            "536/536 [==============================] - 2s 3ms/step - loss: 0.3837 - accuracy: 0.8429 - val_loss: 0.3933 - val_accuracy: 0.8470\n",
            "Epoch 81/100\n",
            "536/536 [==============================] - 2s 3ms/step - loss: 0.3840 - accuracy: 0.8449 - val_loss: 0.3859 - val_accuracy: 0.8470\n",
            "Epoch 82/100\n",
            "536/536 [==============================] - 1s 3ms/step - loss: 0.3937 - accuracy: 0.8405 - val_loss: 0.3961 - val_accuracy: 0.8482\n",
            "Epoch 83/100\n",
            "536/536 [==============================] - 2s 3ms/step - loss: 0.3875 - accuracy: 0.8418 - val_loss: 0.3850 - val_accuracy: 0.8451\n",
            "Epoch 84/100\n",
            "536/536 [==============================] - 2s 3ms/step - loss: 0.3843 - accuracy: 0.8427 - val_loss: 0.3913 - val_accuracy: 0.8474\n",
            "Epoch 85/100\n",
            "536/536 [==============================] - 2s 3ms/step - loss: 0.3869 - accuracy: 0.8429 - val_loss: 0.3973 - val_accuracy: 0.8463\n",
            "Epoch 86/100\n",
            "536/536 [==============================] - 2s 3ms/step - loss: 0.3901 - accuracy: 0.8384 - val_loss: 0.3875 - val_accuracy: 0.8501\n",
            "Epoch 87/100\n",
            "536/536 [==============================] - 2s 3ms/step - loss: 0.3937 - accuracy: 0.8373 - val_loss: 0.3966 - val_accuracy: 0.8489\n",
            "Epoch 88/100\n",
            "536/536 [==============================] - 2s 3ms/step - loss: 0.3892 - accuracy: 0.8438 - val_loss: 0.3952 - val_accuracy: 0.8470\n",
            "Epoch 89/100\n",
            "536/536 [==============================] - 2s 3ms/step - loss: 0.3919 - accuracy: 0.8382 - val_loss: 0.3858 - val_accuracy: 0.8489\n",
            "Epoch 90/100\n",
            "536/536 [==============================] - 2s 3ms/step - loss: 0.3901 - accuracy: 0.8412 - val_loss: 0.3990 - val_accuracy: 0.8478\n",
            "Epoch 91/100\n",
            "536/536 [==============================] - 2s 3ms/step - loss: 0.3879 - accuracy: 0.8384 - val_loss: 0.3860 - val_accuracy: 0.8493\n",
            "Epoch 92/100\n",
            "536/536 [==============================] - 2s 3ms/step - loss: 0.3892 - accuracy: 0.8427 - val_loss: 0.3882 - val_accuracy: 0.8466\n",
            "Epoch 93/100\n",
            "536/536 [==============================] - 2s 3ms/step - loss: 0.3843 - accuracy: 0.8453 - val_loss: 0.3881 - val_accuracy: 0.8478\n",
            "Epoch 94/100\n",
            "536/536 [==============================] - 2s 3ms/step - loss: 0.3795 - accuracy: 0.8457 - val_loss: 0.3789 - val_accuracy: 0.8489\n",
            "Epoch 95/100\n",
            "536/536 [==============================] - 2s 3ms/step - loss: 0.3821 - accuracy: 0.8427 - val_loss: 0.3813 - val_accuracy: 0.8497\n",
            "Epoch 96/100\n",
            "536/536 [==============================] - 2s 3ms/step - loss: 0.3825 - accuracy: 0.8440 - val_loss: 0.3862 - val_accuracy: 0.8485\n",
            "Epoch 97/100\n",
            "536/536 [==============================] - 2s 3ms/step - loss: 0.3883 - accuracy: 0.8405 - val_loss: 0.3940 - val_accuracy: 0.8466\n",
            "Epoch 98/100\n",
            "536/536 [==============================] - 2s 3ms/step - loss: 0.3889 - accuracy: 0.8421 - val_loss: 0.3973 - val_accuracy: 0.8501\n",
            "Epoch 99/100\n",
            "536/536 [==============================] - 2s 3ms/step - loss: 0.3928 - accuracy: 0.8360 - val_loss: 0.3848 - val_accuracy: 0.8470\n",
            "Epoch 100/100\n",
            "536/536 [==============================] - 2s 3ms/step - loss: 0.3742 - accuracy: 0.8490 - val_loss: 0.3909 - val_accuracy: 0.8493\n"
          ]
        }
      ]
    },
    {
      "cell_type": "code",
      "source": [
        "# list all data in history\n",
        "\n",
        "print(model_history.history.keys())\n",
        "# summarize history for accuracy\n",
        "plt.plot(model_history.history['accuracy'])\n",
        "plt.plot(model_history.history['val_accuracy'])\n",
        "plt.title('model accuracy')\n",
        "plt.ylabel('accuracy')\n",
        "plt.xlabel('epoch')\n",
        "plt.legend(['train', 'test'], loc='upper left')\n",
        "plt.show()"
      ],
      "metadata": {
        "colab": {
          "base_uri": "https://localhost:8080/",
          "height": 312
        },
        "id": "NsR4EKgeW57W",
        "outputId": "0378da58-a7b8-463f-fd15-de3bc5768fc6"
      },
      "execution_count": null,
      "outputs": [
        {
          "output_type": "stream",
          "name": "stdout",
          "text": [
            "dict_keys(['loss', 'accuracy', 'val_loss', 'val_accuracy'])\n"
          ]
        },
        {
          "output_type": "display_data",
          "data": {
            "text/plain": [
              "<Figure size 432x288 with 1 Axes>"
            ],
            "image/png": "[encoded data removed]"
          },
          "metadata": {
            "needs_background": "light"
          }
        }
      ]
    },
    {
      "cell_type": "code",
      "source": [
        "# summarize history for loss\n",
        "plt.plot(model_history.history['loss'])\n",
        "plt.plot(model_history.history['val_loss'])\n",
        "plt.title('model loss')\n",
        "plt.ylabel('loss')\n",
        "plt.xlabel('epoch')\n",
        "plt.legend(['train', 'test'], loc='upper left')\n",
        "plt.show()"
      ],
      "metadata": {
        "colab": {
          "base_uri": "https://localhost:8080/",
          "height": 295
        },
        "id": "oGp5YcSLmWtr",
        "outputId": "4dcc6c86-2723-420e-b18b-dc594145a871"
      },
      "execution_count": null,
      "outputs": [
        {
          "output_type": "display_data",
          "data": {
            "text/plain": [
              "<Figure size 432x288 with 1 Axes>"
            ],
            "image/png": "[encoded data removed]"
          },
          "metadata": {
            "needs_background": "light"
          }
        }
      ]
    },
    {
      "cell_type": "code",
      "source": [
        "# Part 3 - Making the predictions and evaluating the model\n",
        "\n",
        "# Predicting the Test set results\n",
        "y_pred = classifier.predict(X_test)\n",
        "y_pred = (y_pred > 0.5)\n",
        "y_pred\n"
      ],
      "metadata": {
        "colab": {
          "base_uri": "https://localhost:8080/"
        },
        "id": "EZbNeDdXmcNV",
        "outputId": "743ca119-9eeb-4543-c42d-d33a0ad33092"
      },
      "execution_count": null,
      "outputs": [
        {
          "output_type": "execute_result",
          "data": {
            "text/plain": [
              "array([[False],\n",
              "       [False],\n",
              "       [False],\n",
              "       ...,\n",
              "       [False],\n",
              "       [False],\n",
              "       [False]])"
            ]
          },
          "metadata": {},
          "execution_count": 14
        }
      ]
    },
    {
      "cell_type": "code",
      "source": [
        "# Making the Confusion Matrix\n",
        "from sklearn.metrics import confusion_matrix\n",
        "cm = confusion_matrix(y_test, y_pred)\n",
        "\n",
        "print(cm)\n"
      ],
      "metadata": {
        "colab": {
          "base_uri": "https://localhost:8080/"
        },
        "id": "hR5_FVS2mh_b",
        "outputId": "07507fd7-9af1-4358-ad66-2139c1f2ca81"
      },
      "execution_count": null,
      "outputs": [
        {
          "output_type": "stream",
          "name": "stdout",
          "text": [
            "[[1539   56]\n",
            " [ 213  192]]\n"
          ]
        }
      ]
    },
    {
      "cell_type": "code",
      "source": [
        "# Calculate the Accuracy\n",
        "from sklearn.metrics import accuracy_score\n",
        "score=accuracy_score(y_pred,y_test)\n",
        "score\n"
      ],
      "metadata": {
        "colab": {
          "base_uri": "https://localhost:8080/"
        },
        "id": "pDIPJD4ommdP",
        "outputId": "accf5010-42ab-4abc-e85b-39bcc308b766"
      },
      "execution_count": null,
      "outputs": [
        {
          "output_type": "execute_result",
          "data": {
            "text/plain": [
              "0.8655"
            ]
          },
          "metadata": {},
          "execution_count": 16
        }
      ]
    }
  ]
}